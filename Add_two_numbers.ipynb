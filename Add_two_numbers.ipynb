{
  "nbformat": 4,
  "nbformat_minor": 0,
  "metadata": {
    "colab": {
      "provenance": [],
      "toc_visible": true
    },
    "kernelspec": {
      "name": "python3",
      "display_name": "Python 3"
    },
    "language_info": {
      "name": "python"
    }
  },
  "cells": [
    {
      "cell_type": "code",
      "execution_count": null,
      "metadata": {
        "id": "rE2FmfHvd-D3"
      },
      "outputs": [],
      "source": []
    },
    {
      "cell_type": "markdown",
      "source": [
        "1st **prog**"
      ],
      "metadata": {
        "id": "PzuHNo_5fPiQ"
      }
    },
    {
      "cell_type": "code",
      "source": [
        "print(\"arun\")"
      ],
      "metadata": {
        "colab": {
          "base_uri": "https://localhost:8080/"
        },
        "id": "-BHJ7EhgfcHl",
        "outputId": "6715e564-100e-475d-a35e-b83fb0d98764"
      },
      "execution_count": null,
      "outputs": [
        {
          "output_type": "stream",
          "name": "stdout",
          "text": [
            "arun\n"
          ]
        }
      ]
    },
    {
      "cell_type": "code",
      "source": [
        "  a+b"
      ],
      "metadata": {
        "id": "h6W-vmZmfu3d"
      },
      "execution_count": null,
      "outputs": []
    },
    {
      "cell_type": "markdown",
      "source": [
        "variable decleration in python"
      ],
      "metadata": {
        "id": "Irv4kF6QhS6z"
      }
    },
    {
      "cell_type": "code",
      "source": [
        "a=5\n",
        "b=9\n",
        "sum=a+b\n",
        "print(sum)"
      ],
      "metadata": {
        "id": "HWzQCZ6Chiv-",
        "colab": {
          "base_uri": "https://localhost:8080/"
        },
        "outputId": "040036eb-7775-4583-c316-e18357041da1"
      },
      "execution_count": null,
      "outputs": [
        {
          "output_type": "stream",
          "name": "stdout",
          "text": [
            "14\n"
          ]
        }
      ]
    },
    {
      "cell_type": "code",
      "source": [],
      "metadata": {
        "id": "8G9p8ZA5N-kT"
      },
      "execution_count": null,
      "outputs": []
    },
    {
      "cell_type": "markdown",
      "source": [
        "lists"
      ],
      "metadata": {
        "id": "Oz7kc252OyEI"
      }
    },
    {
      "cell_type": "code",
      "source": [
        "l=[1,2,3,4,5]\n",
        "print(type(l))"
      ],
      "metadata": {
        "colab": {
          "base_uri": "https://localhost:8080/"
        },
        "id": "2PNwPFX7O09S",
        "outputId": "4f6e836e-50d0-4aa7-a8a1-6b9a1f91fe88"
      },
      "execution_count": null,
      "outputs": [
        {
          "output_type": "stream",
          "name": "stdout",
          "text": [
            "<class 'list'>\n"
          ]
        }
      ]
    },
    {
      "cell_type": "markdown",
      "source": [
        "mix list"
      ],
      "metadata": {
        "id": "ibpFE2fCPHdc"
      }
    },
    {
      "cell_type": "code",
      "source": [
        "l=[2,3,\"hello\",[3,4,5]]\n",
        "print(l[2])"
      ],
      "metadata": {
        "colab": {
          "base_uri": "https://localhost:8080/"
        },
        "id": "-eM8qVnJPbzu",
        "outputId": "47d0d19e-0aa0-4ac8-a4c3-7116473df379"
      },
      "execution_count": null,
      "outputs": [
        {
          "output_type": "stream",
          "name": "stdout",
          "text": [
            "hello\n"
          ]
        }
      ]
    },
    {
      "cell_type": "markdown",
      "source": [
        "mix list 2"
      ],
      "metadata": {
        "id": "dYs7efBcxyQZ"
      }
    },
    {
      "cell_type": "code",
      "source": [
        "l=[2,3,\"hello\",[3,4,5]]\n",
        "print(l[1: ])"
      ],
      "metadata": {
        "colab": {
          "base_uri": "https://localhost:8080/"
        },
        "id": "ZMzE4Rt0yL8F",
        "outputId": "3ce6cb62-b36c-4138-8ddb-12e00df117d2"
      },
      "execution_count": 15,
      "outputs": [
        {
          "output_type": "stream",
          "name": "stdout",
          "text": [
            "[3, 'hello', [3, 4, 5]]\n"
          ]
        }
      ]
    },
    {
      "cell_type": "markdown",
      "source": [
        "increment list"
      ],
      "metadata": {
        "id": "pAyTj5wdq4Pi"
      }
    },
    {
      "cell_type": "code",
      "source": [
        "l=[2,3,\"hello\",[3,4,5]]\n",
        "print(l[0:2])"
      ],
      "metadata": {
        "colab": {
          "base_uri": "https://localhost:8080/"
        },
        "id": "ruZzaVzhq7Ho",
        "outputId": "500e6361-e80f-4938-e74d-0b019f8d34b8"
      },
      "execution_count": 5,
      "outputs": [
        {
          "output_type": "stream",
          "name": "stdout",
          "text": [
            "[2, 3]\n"
          ]
        }
      ]
    },
    {
      "cell_type": "markdown",
      "source": [
        "triple argumment"
      ],
      "metadata": {
        "id": "Wbwfv3zvrZPC"
      }
    },
    {
      "cell_type": "code",
      "source": [
        "l=[1,2,3,4,5]\n",
        "print(l[0  :2])"
      ],
      "metadata": {
        "colab": {
          "base_uri": "https://localhost:8080/"
        },
        "id": "ljMu7Kygrhp3",
        "outputId": "ce73e559-7a2a-410a-ab8c-a93706a289d0"
      },
      "execution_count": 13,
      "outputs": [
        {
          "output_type": "stream",
          "name": "stdout",
          "text": [
            "[1, 2]\n"
          ]
        }
      ]
    }
  ]
}